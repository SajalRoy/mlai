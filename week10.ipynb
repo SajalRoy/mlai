{
 "cells": [
  {
   "cell_type": "markdown",
   "metadata": {},
   "source": [
    "# Logistic Regression\n",
    "\n",
    "### 1st December 2015 Neil D. Lawrence"
   ]
  },
  {
   "cell_type": "code",
   "execution_count": 1,
   "metadata": {
    "collapsed": false
   },
   "outputs": [],
   "source": [
    "import numpy as np\n",
    "import pandas as pd\n",
    "import pods\n",
    "import matplotlib.pyplot as plt\n",
    "%matplotlib inline\n"
   ]
  },
  {
   "cell_type": "markdown",
   "metadata": {},
   "source": [
    "The [naive Bayes assumption](./week9.ipynb) allowed us to specify a class conditional density, $p(\\mathbf{x}_i|y_i, \\boldsymbol{\\theta})$, through assuming that the features were conditionally independent given the label. Combined with our assumption that the data points are conditionally independent given the parameters, $\\boldsymbol{\\theta}$, this allowed us to specify a joint density over the entire data set, $p(\\mathbf{y}, \\mathbf{X})$. We argued that modeling the joint density is a powerful approach because we can answer any particular question we have about the data through the sum rule and the product rule of probability. We can condition on the training data and query the value of an unseen test point. If we have missing data, then we can integrate over the missing point (marginalise) and obtain our best prediction despite the absence of some of the features for a point. However, it comes at the cost of a particular modeling assumption. Namely, to make modeling practical we assumed that the features were conditionally independent given the feature label. In other words, for any given point, if we know its class, then its features will be independent. This is a very strong assumption. For example, if we were classifying the sex of an individual given their height and weight, naive Bayes would assume that if we knew their sex, then the height and weight would be independent. This is clearly wrong, the dependence between height and weight is not dictated only by the sex of an individual, there is a natural correlation between them.\n",
    "\n",
    "Modeling the entire joint density allows us to deal with different questions, that we may not have envisaged at the model *design time*. It contrasts with the approach we took for regression where we specifically chose to model the conditional density for the target values, $\\mathbf{y}$, given the input locations, $\\mathbf{X}$. That density, $p(\\mathbf{y}|\\mathbf{X})$, effectively assumes that the question we'll be asked at *run time* is known. In particular, we expect to be asked about the value of the function, $y^*$, given a particular input location, $\\mathbf{x}^*$. We don't expect to be asked about the value of an input given a particular observation. That would require placing an additional prior over the input location for each point, $p(\\mathbf{x}_i)$. Of course, it's possible to conceive of a model like this, and indeed that is how we proceeded for [dimensionality reduction](./week8.ipynb). However, if we know we will always have all the inputs at run time, it may make sense to *directly* model the conditional density, $p(\\mathbf{y}|\\mathbf{X})$. \n",
    "\n",
    "## Logistic Regression\n",
    "\n",
    "A logistic regression is an approach to classification which extends the linear basis function models we've already explored. Rather than modeling the output of the function directly the assumption is that we model the *log-odds* with the basis functions.\n",
    "\n",
    "The [odds](http://en.wikipedia.org/wiki/Odds) are defined as the ratio of the probability of a positive outcome, to the probability of a negative outcome. If the probability of a positive outcome is denoted by $\\pi$, then the odds are computed as $\\frac{\\pi}{1-\\pi}$. Odds are widely used by [bookmakers](http://en.wikipedia.org/wiki/Bookmaker) in gambling, although a bookmakers odds won't normalise: i.e. if you look at the equivalent probabilities, and sum over the probability of all outcomes the bookmakers are considering, then you won't get one. This is how the bookmaker makes a profit. \n",
    "\n",
    "Because a probability is always between zero and one, the odds are always between $0$ and $\\infty$. If the positive outcome is unlikely the odds are close to zero, if it is very likely then the odds become close to infinite. Taking the logarithm of the odds maps the odds from the positive half space to being across the entire real line. Odds that were between 0 and 1 (where the negative outcome was more likely) are mapped to the range between $-\\infty$ and $0$. Odds that are greater than 1 are mapped to the range between $0$ and $\\infty$. Considering the log odds therefore takes a number between 0 and 1 (the probability of positive outcome) and maps it to the entire real line. The function that does this is known as the [logit function](http://en.wikipedia.org/wiki/Logit),\n",
    "$\n",
    "g^{-1}(p_i) = \\log\\frac{p_i}{1-p_i}\n",
    "$\n",
    "This function is known as a *link function*.\n",
    "\n",
    "For a standard regression we take,\n",
    "$$\n",
    "f(x) = \\mathbf{w}^\\top \\boldsymbol{\\phi}(\\mathbf{x}),\n",
    "$$\n",
    "if we want to perform classification we perform a logistic regression. \n",
    "$$\n",
    "\\log \\frac{\\pi}{(1-\\pi)} = \\mathbf{w}^\\top \\boldsymbol{\\phi}(\\mathbf{x})\n",
    "$$\n",
    "where the odds ratio between the positive class and the negative class is given by\n",
    "$$\n",
    "\\frac{\\pi}{(1-\\pi)}\n",
    "$$\n",
    "The odds can never be negative, but can take any value from 0 to $\\infty$. We have defined the link function as taking the form $g^{-1}(\\cdot)$ implying that the inverse link function is given by $g(\\cdot)$. Since we have defined,\n",
    "$$\n",
    "g^{-1}(\\pi) = \\mathbf{w}^\\top \\boldsymbol{\\phi}(\\mathbf{x})\n",
    "$$\n",
    "we can write $\\pi$ in terms of the *inverse link* function, $g(\\cdot)$ as \n",
    "$$\n",
    "\\pi = g(\\mathbf{w}^\\top \\boldsymbol{\\phi}(\\mathbf{x})).\n",
    "$$"
   ]
  },
  {
   "cell_type": "markdown",
   "metadata": {},
   "source": [
    "### Basis Function\n",
    "\n",
    "We'll define our prediction, objective and gradient functions below. But before we start, we need to define a basis function for our model. Let's start with the linear basis."
   ]
  },
  {
   "cell_type": "code",
   "execution_count": 2,
   "metadata": {
    "collapsed": false
   },
   "outputs": [],
   "source": [
    "def linear(x, **kwargs):\n",
    "    \"Defines the linear basis.\"\n",
    "    return np.hstack([np.ones((X.shape[0], 1)), X])"
   ]
  },
  {
   "cell_type": "markdown",
   "metadata": {},
   "source": [
    "### Prediction Function\n",
    "\n",
    "Now we have the basis function let's define the prediction function."
   ]
  },
  {
   "cell_type": "code",
   "execution_count": 3,
   "metadata": {
    "collapsed": false
   },
   "outputs": [],
   "source": [
    "def predict(w, x, basis=linear, **kwargs):\n",
    "    \"Generates the prediction function and the basis matrix.\"\n",
    "    Phi = basis(x, **kwargs)\n",
    "    f = np.dot(Phi, w)\n",
    "    return 1./(1+np.exp(-f)), Phi"
   ]
  },
  {
   "cell_type": "markdown",
   "metadata": {},
   "source": [
    "This inverse of the link function is known as the [logistic](http://en.wikipedia.org/wiki/Logistic_function) (thus the name logistic regression) or sometimes it is called the sigmoid function. For a particular value of the input to the link function, $f_i = \\mathbf{w}^\\top \\boldsymbol{\\phi}(\\mathbf{x}_i)$ we can plot the value of the link function as below."
   ]
  },
  {
   "cell_type": "code",
   "execution_count": 4,
   "metadata": {
    "collapsed": false
   },
   "outputs": [
    {
     "data": {
      "text/plain": [
       "<matplotlib.text.Text at 0x109160278>"
      ]
     },
     "execution_count": 4,
     "metadata": {},
     "output_type": "execute_result"
    },
    {
     "data": {
      "image/png": "[encoded data removed]",
      "text/plain": [
       "<matplotlib.figure.Figure at 0x10909cda0>"
      ]
     },
     "metadata": {},
     "output_type": "display_data"
    }
   ],
   "source": [
    "fig, ax = plt.subplots(figsize=(12, 7))\n",
    "f = np.linspace(-6, 6, 100)\n",
    "g = 1/(1+np.exp(-f))\n",
    "ax.plot(f, g, 'r-')\n",
    "ax.set_title('Logistic Function', fontsize=20)\n",
    "ax.set_xlabel('$f_i$', fontsize=18)\n",
    "ax.set_ylabel('$g_i$', fontsize=18)"
   ]
  },
  {
   "cell_type": "markdown",
   "metadata": {},
   "source": [
    "The function has this characeristic 's'-shape (from where the term sigmoid, as in sigma, comes from). It also takes the input from the entire real line and 'squashes' it into an output that is between zero and one. For this reason it is sometimes also called a 'squashing function'. \n",
    "\n",
    "By replacing the inverse link with the sigmoid we can write $\\pi$ as a function of the input and the parameter vector as, \n",
    "$$\n",
    "\\pi(\\mathbf{x},\\mathbf{w}) = \\frac{1}{1+ \\exp\\left(-\\mathbf{w}^\\top \\boldsymbol{\\phi}(\\mathbf{x})\\right)}.\n",
    "$$\n",
    "\n",
    "The process for logistic regression is as follows. Compute the output of a standard linear basis function composition ($\\mathbf{w}^\\top \\boldsymbol{\\phi}(\\mathbf{x})$, as we did for linear regression) and then apply the inverse link function, $g(\\mathbf{w}^\\top \\boldsymbol{\\phi}(\\mathbf{x}))$. In logistic regression this involves *squashing* it with the logistic (or sigmoid) function. Use this value, which now has an interpretation as a *probability* in a Bernoulli distribution to form the likelihood. Then we can assume conditional independence of each data point given the parameters and develop a likelihod for the entire data set. \n",
    "\n",
    "As we discussed last time, the Bernoulli likelihood is of the form,\n",
    "$$\n",
    "P(y_i|\\mathbf{w}, \\mathbf{x}) = \\pi_i^{y_i} (1-\\pi_i)^{1-y_i}\n",
    "$$\n",
    "which we can think of as clever trick for mathematically switching between two probabilities if we were to write it as code it would be better described as\n",
    "```python\n",
    "def bernoulli(x, y, pi):\n",
    "    if y == 1:\n",
    "        return pi(x)\n",
    "    else:\n",
    "        return 1-pi(x)\n",
    "```\n",
    "but writing it mathematically makes it easier to write our objective function within a single mathematical equation. \n",
    "\n",
    "## Maximum Likelihood\n",
    "\n",
    "To obtain the parameters of the model, we need to maximize the likelihood, or minimize the objective function, normally taken to be the negative log likelihood. With a data conditional independence assumption the likelihood has the form,\n",
    "$$\n",
    "P(\\mathbf{y}|\\mathbf{w}, \\mathbf{X}) = \\prod_{i=1}^n P(y_i|\\mathbf{w}, \\mathbf{x}_i). \n",
    "$$\n",
    "which can be written as a log likelihood in the form\n",
    "$$\n",
    "\\log P(\\mathbf{y}|\\mathbf{w}, \\mathbf{X}) = \\sum_{i=1}^n \\log P(y_i|\\mathbf{w}, \\mathbf{x}_i) = \\sum_{i=1}^n y_i \\log \\pi_i + \\sum_{i=1}^n (1-y_i)\\log (1-\\pi_i)\n",
    "$$\n",
    "and if we take the probability of positive outcome for the $i$th data point to be given by\n",
    "$$\n",
    "\\pi_i = g\\left(\\mathbf{w}^\\top \\boldsymbol{\\phi}(\\mathbf{x}_i)\\right),\n",
    "$$\n",
    "where $g(\\cdot)$ is the *inverse* link function, then this leads to an objective function of the form,\n",
    "$$\n",
    "E(\\mathbf{w}) = -  \\sum_{i=1}^n y_i \\log g\\left(\\mathbf{w}^\\top \\boldsymbol{\\phi}(\\mathbf{x}_i)\\right) - \\sum_{i=1}^n(1-y_i)\\log \\left(1-g\\left(\\mathbf{w}^\\top \\boldsymbol{\\phi}(\\mathbf{x}_i)\\right)\\right).\n",
    "$$"
   ]
  },
  {
   "cell_type": "code",
   "execution_count": 79,
   "metadata": {
    "collapsed": false
   },
   "outputs": [],
   "source": [
    "def objective(g, y):\n",
    "    \"Computes the objective function.\"\n",
    "    posind = np.where(y.flatten()==1)\n",
    "    negind = np.where(y.flatten()==0)\n",
    "    return -np.log(g[posind, :]).sum() - np.log(1-g[negind, :]).sum()\n"
   ]
  },
  {
   "cell_type": "markdown",
   "metadata": {},
   "source": [
    "As normal, we would like to minimize this objective. This can be done by differentiating with respect to the parameters of our prediction function, $\\pi(\\mathbf{x};\\mathbf{w})$, for optimisation. The gradient of the likelihood with respect to $\\pi(\\mathbf{x};\\mathbf{w})$ is of the form,\n",
    "$$\n",
    "\\frac{\\text{d}E(\\mathbf{w})}{\\text{d}\\mathbf{w}} = -\\sum_{i=1}^n \\frac{y_i}{g\\left(\\mathbf{w}^\\top \\boldsymbol{\\phi}(\\mathbf{x})\\right)}\\frac{\\text{d}g(f_i)}{\\text{d}f_i} \\boldsymbol{\\phi(\\mathbf{x}_i)} +  \\sum_{i=1}^n \\frac{1-y_i}{1-g\\left(\\mathbf{w}^\\top \\boldsymbol{\\phi}(\\mathbf{x})\\right)}\\frac{\\text{d}g(f_i)}{\\text{d}f_i} \\boldsymbol{\\phi(\\mathbf{x}_i)}\n",
    "$$\n",
    "where we used the chain rule to develop the derivative in terms of $\\frac{\\text{d}g(f_i)}{\\text{d}f_i}$, which is the gradient of the inverse link function (in our case the gradient of the sigmoid function).\n",
    "\n",
    "So the objective function now depends on the gradient of the inverse link function, as well as the likelihood depends on the gradient of the inverse link function, as well as the gradient of the log likelihood, and naturally the gradient of the argument of the inverse link function with respect to the parameters, which is simply $\\boldsymbol{\\phi}(\\mathbf{x}_i)$.\n",
    "\n",
    "The only missing term is the gradient of the inverse link function. For the sigmoid squashing function we have,\n",
    "\\begin{align*}\n",
    "g(f_i) &= \\frac{1}{1+\\exp(-f_i)}\\\\\n",
    "&=(1+\\exp(-f_i))^{-1}\n",
    "\\end{align*}\n",
    "and the gradient can be computed as\n",
    "\\begin{align*}\n",
    "\\frac{\\text{d}g(f_i)}{\\text{d} f_i} & = \\exp(-f_i)(1+\\exp(-f_i))^{-2}\\\\\n",
    "& = \\frac{1}{1+\\exp(-f_i)} \\frac{\\exp(-f_i)}{1+\\exp(-f_i)} \\\\\n",
    "& = g(f_i) (1-g(f_i))\n",
    "\\end{align*}\n",
    "so the full gradient can be written down as\n",
    "$$\n",
    "\\frac{\\text{d}E(\\mathbf{w})}{\\text{d}\\mathbf{w}} = -\\sum_{i=1}^n y_i\\left(1-g\\left(\\mathbf{w}^\\top \\boldsymbol{\\phi}(\\mathbf{x})\\right)\\right) \\boldsymbol{\\phi(\\mathbf{x}_i)} +  \\sum_{i=1}^n (1-y_i)\\left(g\\left(\\mathbf{w}^\\top \\boldsymbol{\\phi}(\\mathbf{x})\\right)\\right) \\boldsymbol{\\phi(\\mathbf{x}_i)}.\n",
    "$$"
   ]
  },
  {
   "cell_type": "code",
   "execution_count": 80,
   "metadata": {
    "collapsed": false
   },
   "outputs": [],
   "source": [
    "def gradient(g, Phi, y):\n",
    "    \"Generates the gradient of the parameter vector.\"\n",
    "    posind = np.where(y.flatten()==1)\n",
    "    dw = -(Phi[posind]*(1-g[posind])).sum(0)\n",
    "    negind = np.where(y.flatten()==0 )\n",
    "    dw += (Phi[negind]*g[negind]).sum(0)\n",
    "    return dw[:, None]"
   ]
  },
  {
   "cell_type": "markdown",
   "metadata": {},
   "source": [
    "## Optimization of the Function\n",
    "\n",
    "Reorganizing the gradient to find a stationary point of the function with respect to the parameters $\\mathbf{w}$ turns out to be impossible. Optimization has to proceed by *numerical methods*. Options include the multidimensional variant of [Newton's method](http://en.wikipedia.org/wiki/Newton%27s_method) or [gradient based optimization methods](http://en.wikipedia.org/wiki/Gradient_method) like we used for optimizing matrix factorization for the movie recommender system. We recall from matrix factorization that, for large data, *stochastic gradient descent* or the Robbins Munroe optimization procedure worked best for function minimization. "
   ]
  },
  {
   "cell_type": "markdown",
   "metadata": {},
   "source": [
    "## Movie Body Count Data"
   ]
  },
  {
   "cell_type": "markdown",
   "metadata": {},
   "source": [
    "Let's recreate the movie body count example we used with naive Bayes. We can load in the data from `pods` as follows."
   ]
  },
  {
   "cell_type": "code",
   "execution_count": 81,
   "metadata": {
    "collapsed": false
   },
   "outputs": [
    {
     "name": "stderr",
     "output_type": "stream",
     "text": [
      "ERROR: Line magic function `%Change` not found.\n"
     ]
    }
   ],
   "source": [
    "% Change this example for 2016#data = pods.datasets.movie_body_count_r_classify()\n",
    "data = pods.datasets.olivetti_glasses()\n",
    "X = data['X']\n",
    "y = data['Y']"
   ]
  },
  {
   "cell_type": "markdown",
   "metadata": {},
   "source": [
    "## Gradient Descent\n",
    "\n",
    "We will need to define some initial random values for our vector and then minimize the objective by descending the gradient."
   ]
  },
  {
   "cell_type": "code",
   "execution_count": 89,
   "metadata": {
    "collapsed": false
   },
   "outputs": [
    {
     "name": "stdout",
     "output_type": "stream",
     "text": [
      "Iter 0 Objective 631.783196247\n",
      "Iter 100 Objective 129.578605944\n",
      "Iter 200 Objective 91.2451010919\n",
      "Iter 300 Objective 65.2537459773\n",
      "Iter 400 Objective 48.0332121367\n",
      "Iter 500 Objective 42.4937469629\n",
      "Iter 600 Objective 39.5273578953\n",
      "Iter 700 Objective 37.4964014119\n",
      "Iter 800 Objective 36.064994686\n",
      "Iter 900 Objective 35.0348514251\n",
      "Iter 1000 Objective 34.2819537383\n",
      "Iter 1100 Objective 33.7251857125\n",
      "Iter 1200 Objective 33.3096324019\n",
      "Iter 1300 Objective 32.9971217868\n",
      "Iter 1400 Objective 32.7605772912\n",
      "Iter 1500 Objective 32.5804914621\n",
      "Iter 1600 Objective 32.4426402661\n",
      "Iter 1700 Objective 32.3365549167\n",
      "Iter 1800 Objective 32.2544738537\n",
      "Iter 1900 Objective 32.1906090092\n",
      "Iter 2000 Objective 32.1406235049\n",
      "Iter 2100 Objective 32.1012549001\n",
      "Iter 2200 Objective 32.0700405632\n",
      "Iter 2300 Objective 32.045115822\n",
      "Iter 2400 Objective 32.0250646355\n",
      "Iter 2500 Objective 32.0088085498\n",
      "Iter 2600 Objective 31.9955237856\n",
      "Iter 2700 Objective 31.9845791263\n",
      "Iter 2800 Objective 31.9754892638\n",
      "Iter 2900 Objective 31.9678796773\n",
      "Iter 3000 Objective 31.9614601441\n",
      "Iter 3100 Objective 31.9560047266\n",
      "Iter 3200 Objective 31.9513366296\n",
      "Iter 3300 Objective 31.9473167245\n",
      "Iter 3400 Objective 31.943834841\n",
      "Iter 3500 Objective 31.940803147\n",
      "Iter 3600 Objective 31.9381511098\n",
      "Iter 3700 Objective 31.9358216508\n",
      "Iter 3800 Objective 31.9337682078\n",
      "Iter 3900 Objective 31.9319524837\n",
      "Iter 4000 Objective 31.9303427168\n",
      "Iter 4100 Objective 31.9289123481\n",
      "Iter 4200 Objective 31.9276389902\n",
      "Iter 4300 Objective 31.9265036268\n",
      "Iter 4400 Objective 31.9254899876\n",
      "Iter 4500 Objective 31.9245840584\n",
      "Iter 4600 Objective 31.9237736937\n",
      "Iter 4700 Objective 31.9230483095\n",
      "Iter 4800 Objective 31.9223986375\n",
      "Iter 4900 Objective 31.921816526\n",
      "Iter 5000 Objective 31.9212947792\n",
      "Iter 5100 Objective 31.9208270242\n",
      "Iter 5200 Objective 31.9204076018\n",
      "Iter 5300 Objective 31.9200314751\n",
      "Iter 5400 Objective 31.9196941523\n",
      "Iter 5500 Objective 31.9193916217\n",
      "Iter 5600 Objective 31.9191202954\n",
      "Iter 5700 Objective 31.9188769615\n",
      "Iter 5800 Objective 31.9186587425\n",
      "Iter 5900 Objective 31.9184630582\n",
      "Iter 6000 Objective 31.9182875946\n",
      "Iter 6100 Objective 31.918130275\n",
      "Iter 6200 Objective 31.9179892356\n",
      "Iter 6300 Objective 31.9178628034\n",
      "Iter 6400 Objective 31.9177494762\n",
      "Iter 6500 Objective 31.9176479052\n",
      "Iter 6600 Objective 31.9175568796\n",
      "Iter 6700 Objective 31.9174753122\n",
      "Iter 6800 Objective 31.9174022268\n",
      "Iter 6900 Objective 31.9173367475\n",
      "Iter 7000 Objective 31.9172780876\n",
      "Iter 7100 Objective 31.9172255414\n",
      "Iter 7200 Objective 31.9171784755\n",
      "Iter 7300 Objective 31.9171363215\n",
      "Iter 7400 Objective 31.9170985695\n",
      "Iter 7500 Objective 31.9170647624\n",
      "Iter 7600 Objective 31.9170344897\n",
      "Iter 7700 Objective 31.9170073837\n",
      "Iter 7800 Objective 31.9169831145\n",
      "Iter 7900 Objective 31.9169613865\n",
      "Iter 8000 Objective 31.9169419345\n",
      "Iter 8100 Objective 31.9169245209\n",
      "Iter 8200 Objective 31.9169089329\n",
      "Iter 8300 Objective 31.9168949796\n",
      "Iter 8400 Objective 31.91688249\n",
      "Iter 8500 Objective 31.9168713109\n",
      "Iter 8600 Objective 31.9168613053\n",
      "Iter 8700 Objective 31.9168523501\n",
      "Iter 8800 Objective 31.9168443352\n",
      "Iter 8900 Objective 31.9168371622\n",
      "Iter 9000 Objective 31.9168307426\n",
      "Iter 9100 Objective 31.9168249975\n",
      "Iter 9200 Objective 31.9168198561\n",
      "Iter 9300 Objective 31.9168152549\n",
      "Iter 9400 Objective 31.9168111373\n",
      "Iter 9500 Objective 31.9168074525\n",
      "Iter 9600 Objective 31.916804155\n",
      "Iter 9700 Objective 31.916801204\n",
      "Iter 9800 Objective 31.9167985633\n",
      "Iter 9900 Objective 31.9167962001\n"
     ]
    }
   ],
   "source": [
    "# gradient descent algorithm\n",
    "w = np.random.normal(size=(X.shape[1]+1, 1), scale = 0.001)\n",
    "eta = 1e-9\n",
    "iters = 10000\n",
    "for i in range(iters):\n",
    "    g, Phi = predict(w, X, linear)\n",
    "    w -= eta*gradient(g, Phi, y) + 0.001*w\n",
    "    if not i % 100:\n",
    "        print(\"Iter\", i, \"Objective\", objective(g, y))"
   ]
  },
  {
   "cell_type": "code",
   "execution_count": 63,
   "metadata": {
    "collapsed": false
   },
   "outputs": [
    {
     "name": "stdout",
     "output_type": "stream",
     "text": [
      "> \u001b[0;32m<ipython-input-58-f605ddfceb15>\u001b[0m(4)\u001b[0;36mgradient\u001b[0;34m()\u001b[0m\n",
      "\u001b[0;32m      3 \u001b[0;31m    \u001b[0mposind\u001b[0m \u001b[0;34m=\u001b[0m \u001b[0mnp\u001b[0m\u001b[0;34m.\u001b[0m\u001b[0mwhere\u001b[0m\u001b[0;34m(\u001b[0m\u001b[0my\u001b[0m\u001b[0;34m.\u001b[0m\u001b[0mflatten\u001b[0m\u001b[0;34m(\u001b[0m\u001b[0;34m)\u001b[0m\u001b[0;34m==\u001b[0m\u001b[0;36m1\u001b[0m\u001b[0;34m)\u001b[0m\u001b[0;34m\u001b[0m\u001b[0m\n",
      "\u001b[0m\u001b[0;32m----> 4 \u001b[0;31m    \u001b[0mdw\u001b[0m \u001b[0;34m=\u001b[0m \u001b[0;34m-\u001b[0m\u001b[0;34m(\u001b[0m\u001b[0mPhi\u001b[0m\u001b[0;34m[\u001b[0m\u001b[0mposind\u001b[0m\u001b[0;34m,\u001b[0m \u001b[0;34m:\u001b[0m\u001b[0;34m]\u001b[0m\u001b[0;34m*\u001b[0m\u001b[0;34m(\u001b[0m\u001b[0;36m1\u001b[0m\u001b[0;34m-\u001b[0m\u001b[0mg\u001b[0m\u001b[0;34m[\u001b[0m\u001b[0mnp\u001b[0m\u001b[0;34m.\u001b[0m\u001b[0mwhere\u001b[0m\u001b[0;34m(\u001b[0m\u001b[0mposind\u001b[0m\u001b[0;34m)\u001b[0m\u001b[0;34m,\u001b[0m \u001b[0;34m:\u001b[0m\u001b[0;34m]\u001b[0m\u001b[0;34m)\u001b[0m\u001b[0;34m)\u001b[0m\u001b[0;34m.\u001b[0m\u001b[0msum\u001b[0m\u001b[0;34m(\u001b[0m\u001b[0;36m0\u001b[0m\u001b[0;34m)\u001b[0m\u001b[0;34m\u001b[0m\u001b[0m\n",
      "\u001b[0m\u001b[0;32m      5 \u001b[0;31m    \u001b[0mnegind\u001b[0m \u001b[0;34m=\u001b[0m \u001b[0mnp\u001b[0m\u001b[0;34m.\u001b[0m\u001b[0mwhere\u001b[0m\u001b[0;34m(\u001b[0m\u001b[0my\u001b[0m\u001b[0;34m.\u001b[0m\u001b[0mflatten\u001b[0m\u001b[0;34m(\u001b[0m\u001b[0;34m)\u001b[0m\u001b[0;34m==\u001b[0m\u001b[0;36m0\u001b[0m \u001b[0;32mor\u001b[0m \u001b[0my\u001b[0m\u001b[0;34m.\u001b[0m\u001b[0mflatten\u001b[0m\u001b[0;34m(\u001b[0m\u001b[0;34m)\u001b[0m\u001b[0;34m==\u001b[0m\u001b[0;34m-\u001b[0m\u001b[0;36m1\u001b[0m\u001b[0;34m)\u001b[0m\u001b[0;34m\u001b[0m\u001b[0m\n",
      "\u001b[0m\n",
      "ipdb> Phi[posind, :].shape\n",
      "(1, 63, 4097)\n",
      "ipdb> posind.shape\n",
      "*** AttributeError: 'tuple' object has no attribute 'shape'\n",
      "ipdb> posind\n",
      "(array([  0,   9,  18,  20,  23,  29,  34,  38,  43,  44,  55,  56,  58,\n",
      "        59,  62,  64,  69,  71,  72,  76,  81,  83,  84,  99, 101, 102,\n",
      "       107, 108, 112, 116, 118, 119, 121, 123, 124, 126, 127, 128, 130,\n",
      "       140, 142, 147, 149, 151, 152, 153, 154, 156, 164, 170, 174, 178,\n",
      "       179, 182, 183, 184, 185, 186, 187, 190, 195, 197, 198]),)\n",
      "ipdb> Phi.shape\n",
      "(200, 4097)\n",
      "ipdb> Phi[posind].shape\n",
      "(63, 4097)\n",
      "ipdb> q\n"
     ]
    }
   ],
   "source": [
    "%debug"
   ]
  },
  {
   "cell_type": "code",
   "execution_count": 50,
   "metadata": {
    "collapsed": false
   },
   "outputs": [
    {
     "data": {
      "text/plain": [
       "63"
      ]
     },
     "execution_count": 50,
     "metadata": {},
     "output_type": "execute_result"
    }
   ],
   "source": [
    "len(g[np.where(y.flatten()==1)])"
   ]
  },
  {
   "cell_type": "code",
   "execution_count": 49,
   "metadata": {
    "collapsed": false
   },
   "outputs": [
    {
     "data": {
      "text/plain": [
       "(array([  0,   9,  18,  20,  23,  29,  34,  38,  43,  44,  55,  56,  58,\n",
       "         59,  62,  64,  69,  71,  72,  76,  81,  83,  84,  99, 101, 102,\n",
       "        107, 108, 112, 116, 118, 119, 121, 123, 124, 126, 127, 128, 130,\n",
       "        140, 142, 147, 149, 151, 152, 153, 154, 156, 164, 170, 174, 178,\n",
       "        179, 182, 183, 184, 185, 186, 187, 190, 195, 197, 198]),)"
      ]
     },
     "execution_count": 49,
     "metadata": {},
     "output_type": "execute_result"
    }
   ],
   "source": [
    "np.where(y.flatten()==1)"
   ]
  },
  {
   "cell_type": "code",
   "execution_count": 90,
   "metadata": {
    "collapsed": false
   },
   "outputs": [
    {
     "data": {
      "text/plain": [
       "<matplotlib.image.AxesImage at 0x10bb100f0>"
      ]
     },
     "execution_count": 90,
     "metadata": {},
     "output_type": "execute_result"
    },
    {
     "data": {
      "image/png": "[encoded data removed]",
      "text/plain": [
       "<matplotlib.figure.Figure at 0x10ebac208>"
      ]
     },
     "metadata": {},
     "output_type": "display_data"
    }
   ],
   "source": [
    "plt.matshow(w[1:].reshape(64, 64).T)"
   ]
  },
  {
   "cell_type": "markdown",
   "metadata": {},
   "source": [
    "Let's look at the weights and how they relate to the inputs. "
   ]
  },
  {
   "cell_type": "code",
   "execution_count": 36,
   "metadata": {
    "collapsed": false
   },
   "outputs": [
    {
     "data": {
      "text/plain": [
       "<matplotlib.image.AxesImage at 0x10bd56b00>"
      ]
     },
     "execution_count": 36,
     "metadata": {},
     "output_type": "execute_result"
    },
    {
     "data": {
      "image/png": "[encoded data removed]",
      "text/plain": [
       "<matplotlib.figure.Figure at 0x10bb92668>"
      ]
     },
     "metadata": {},
     "output_type": "display_data"
    }
   ],
   "source": [
    "plt.matshow(X[40, :].reshape(64, 64).T)"
   ]
  },
  {
   "cell_type": "code",
   "execution_count": 91,
   "metadata": {
    "collapsed": false
   },
   "outputs": [
    {
     "data": {
      "text/plain": [
       "array([ 1.39022521, -4.33047537, -2.61829807, -2.38789405, -2.2484106 ,\n",
       "       -1.26540661, -5.59135337, -3.02146683, -2.33078945,  3.14770712,\n",
       "       -0.49667949, -1.5964594 , -1.12955127, -3.36960833, -3.06438023,\n",
       "       -4.95170888, -2.96473025, -4.56202041,  1.0628996 , -2.47568987,\n",
       "        2.09219783, -1.66695307, -4.60386364,  1.90781083, -4.10077389,\n",
       "       -2.6102965 , -3.66659041, -1.58807206, -1.43886635,  1.49579457,\n",
       "       -3.59460098, -1.72435831, -1.84683046, -2.30974171,  1.68886277,\n",
       "       -2.24711233, -1.95581952, -2.31658807,  1.39246453, -3.52236602,\n",
       "       -2.46438108, -1.74420947, -2.68376611,  1.71993236,  2.28411349,\n",
       "       -3.84814696, -1.50678481, -1.30813672, -1.77439492, -2.47435533,\n",
       "       -1.5510016 , -2.22658835, -2.61229978, -3.12341   , -4.61323338,\n",
       "        0.50842128,  1.17957683, -3.18913943,  0.97965631,  1.63319012,\n",
       "       -1.23967675, -1.95116466,  1.21742364, -3.99316546,  0.62752442,\n",
       "       -1.34482841, -1.13117605, -1.23336778, -2.98187276,  0.550462  ,\n",
       "       -1.75745092,  0.77355108,  1.71011577, -3.31626425, -1.62277027,\n",
       "       -1.66610072,  0.96529122, -1.66899829, -1.64340287, -1.70972888,\n",
       "       -2.04130598,  0.63837195, -1.99011416,  1.32792386,  0.3457148 ,\n",
       "       -1.53038172, -0.92846929, -1.65269831, -1.46866319, -2.1426874 ,\n",
       "       -2.61375244, -1.49156082, -2.65695221, -2.00310027, -2.16346076,\n",
       "       -2.17456733, -4.15823795, -2.42159641, -3.56014192,  0.99073834,\n",
       "       -2.78932707,  1.56311707,  1.85648635, -2.07730244, -3.79592338,\n",
       "       -2.24830479, -3.55817552,  1.84774638,  0.00663777, -2.06567487,\n",
       "       -1.81788382, -1.74478816,  1.34949621, -1.28860708, -2.13040145,\n",
       "       -2.86822932,  1.62171241, -2.77172682,  1.08178358,  0.39569147,\n",
       "       -1.87108448,  1.60626696, -3.0279254 ,  2.32091208,  1.80438757,\n",
       "       -1.77155739,  1.7059216 ,  1.50923896,  0.47568367, -2.59884935,\n",
       "        3.18188975, -2.63013891, -3.64217149, -3.03685475, -1.9852109 ,\n",
       "       -2.12694751, -2.72554304, -2.30606156, -2.64690101, -1.40911427,\n",
       "        0.10638904, -3.32990921,  1.09873716, -2.08873617, -2.66665668,\n",
       "       -1.51791682, -2.78447352,  1.62877846, -3.15953694,  1.1048088 ,\n",
       "       -2.43791308,  1.03618499,  1.41955817,  2.68874032,  0.53834243,\n",
       "       -4.61437255,  2.78160941, -2.36503926, -1.34872058, -2.16662754,\n",
       "       -4.25233928, -3.25074296, -2.59615742, -4.25581607,  1.87520446,\n",
       "       -1.97167361, -2.03432788, -2.19503113, -2.88454237, -3.43492523,\n",
       "        1.00326778, -2.77908143, -2.18731917, -2.06320751,  1.66191537,\n",
       "       -2.96971807, -1.33068378, -3.66985592,  1.14606141,  1.63984124,\n",
       "       -4.90945288, -2.5827505 ,  0.92387439,  1.16216555,  0.92799977,\n",
       "        1.14182938,  0.71414656,  2.28659641, -0.85777559, -1.50254819,\n",
       "        0.29917698, -3.95441858, -2.73145047, -1.18932031, -1.31104574,\n",
       "        2.13766006, -2.51343756,  1.18481117,  1.27564866, -1.77447354])"
      ]
     },
     "execution_count": 91,
     "metadata": {},
     "output_type": "execute_result"
    }
   ],
   "source": [
    "(linear(X)*w.T).sum(1)"
   ]
  },
  {
   "cell_type": "markdown",
   "metadata": {},
   "source": [
    "The weights are fairly small. This makes sense for year, and perhaps also body count, but given the genre only take the value of 0 or 1 it makes less sense for them. Why are the weights so small? What can you do to fix this?\n",
    "\n",
    "## Stochastic Gradient Descent\n",
    "\n",
    "Now construct a stochastic gradient descent algorithm and run it on the data. Is it faster or slower than batch gradient descent? What can you do to improve convergence speed?"
   ]
  },
  {
   "cell_type": "markdown",
   "metadata": {},
   "source": [
    "## Going Further\n",
    "\n",
    "### Optimization\n",
    "\n",
    "Other optimization techniques for generalized linear models include [Newton's method](http://en.wikipedia.org/wiki/Newton%27s_method), it requires you to compute the Hessian, or second derivative of the objective function. \n",
    "\n",
    "Methods that are based on gradients only include [L-BFGS](http://en.wikipedia.org/wiki/Limited-memory_BFGS) and [conjugate gradients](http://en.wikipedia.org/wiki/Conjugate_gradient_method). Can you find these in python? Are they suitable for very large data sets? \n",
    "\n",
    "### Other GLMs\n",
    "\n",
    "We've introduced the formalism for generalized linear models. Have a think about how you might model count data using the [Poisson distribution](http://en.wikipedia.org/wiki/Poisson_distribution) and a log link function for the rate, $\\lambda(\\mathbf{x})$. If you want a data set you can try the `pods.datasets.google_trends()` for some count data.\n",
    "\n",
    "### Bayesian Approaches\n",
    "\n",
    "Can you place a prior density over the parameters $\\mathbf{w}$ and marginalize them out like we did for linear regression? If not why not?\n",
    "\n"
   ]
  },
  {
   "cell_type": "code",
   "execution_count": null,
   "metadata": {
    "collapsed": false
   },
   "outputs": [],
   "source": [
    "p"
   ]
  }
 ],
 "metadata": {
  "kernelspec": {
   "display_name": "Python 3",
   "language": "python",
   "name": "python3"
  },
  "language_info": {
   "codemirror_mode": {
    "name": "ipython",
    "version": 3
   },
   "file_extension": ".py",
   "mimetype": "text/x-python",
   "name": "python",
   "nbconvert_exporter": "python",
   "pygments_lexer": "ipython3",
   "version": "3.4.3"
  }
 },
 "nbformat": 4,
 "nbformat_minor": 0
}
